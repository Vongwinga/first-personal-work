{
 "cells": [
  {
   "cell_type": "code",
   "execution_count": null,
   "metadata": {},
   "outputs": [],
   "source": []
  },
  {
   "cell_type": "code",
   "execution_count": 1,
   "metadata": {},
   "outputs": [
    {
     "name": "stderr",
     "output_type": "stream",
     "text": [
      "Building prefix dict from the default dictionary ...\n",
      "Loading model from cache /tmp/jieba.cache\n",
      "Loading model cost 1.435 seconds.\n",
      "Prefix dict has been built successfully.\n"
     ]
    },
    {
     "data": {
      "text/plain": [
       "'/data/nas/workspace/jupyter/result.html'"
      ]
     },
     "execution_count": 1,
     "metadata": {},
     "output_type": "execute_result"
    }
   ],
   "source": [
    "import jieba\n",
    "from pyecharts.charts import WordCloud\n",
    "\n",
    "comments= open(\"comments.json\", \"r\", encoding='utf-8').read()\n",
    "    \n",
    " # 使用精确模式对文本进行分词\n",
    "words = jieba.lcut(comments) \n",
    "    \n",
    " # 通过键值对的形式存储词语及其出现的次数\n",
    "counts = {} \n",
    "    \n",
    "for word in words:\n",
    "    # 单个词语不计算在内\n",
    "    if len(word) == 1: \n",
    "        continue   \n",
    "    else: \n",
    "    # 遍历所有词语，每出现一次其对应的值加 1\n",
    "        counts[word] = counts.get(word, 0) + 1 \n",
    "          \n",
    "# 将键值对转换成列表\n",
    "items = list(counts.items())\n",
    "\n",
    "# 根据词语出现的次数进行从大到小排序\n",
    "items.sort(key=lambda x: x[1], reverse=True)\n",
    "\n",
    "word_cloud = WordCloud()\n",
    "word_cloud.add(\"评论数：\",items, word_size_range=[12, 55])\n",
    "word_cloud.render('result.html')\n"
   ]
  }
 ],
 "metadata": {
  "kernelspec": {
   "display_name": "Python 3",
   "language": "python",
   "name": "python3"
  },
  "language_info": {
   "codemirror_mode": {
    "name": "ipython",
    "version": 3
   },
   "file_extension": ".py",
   "mimetype": "text/x-python",
   "name": "python",
   "nbconvert_exporter": "python",
   "pygments_lexer": "ipython3",
   "version": "3.6.5"
  }
 },
 "nbformat": 4,
 "nbformat_minor": 4
}
